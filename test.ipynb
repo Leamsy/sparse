{
 "metadata": {
  "language_info": {
   "codemirror_mode": {
    "name": "ipython",
    "version": 3
   },
   "file_extension": ".py",
   "mimetype": "text/x-python",
   "name": "python",
   "nbconvert_exporter": "python",
   "pygments_lexer": "ipython3",
   "version": "3.8.6-candidate"
  },
  "orig_nbformat": 2,
  "kernelspec": {
   "name": "python3",
   "display_name": "Python 3.8.6 64-bit",
   "metadata": {
    "interpreter": {
     "hash": "1baa965d5efe3ac65b79dfc60c0d706280b1da80fedb7760faf2759126c4f253"
    }
   }
  }
 },
 "nbformat": 4,
 "nbformat_minor": 2,
 "cells": [
  {
   "cell_type": "code",
   "execution_count": 1,
   "metadata": {},
   "outputs": [],
   "source": [
    "import numpy as np\n",
    "import sparse"
   ]
  },
  {
   "cell_type": "code",
   "execution_count": 2,
   "metadata": {},
   "outputs": [
    {
     "output_type": "stream",
     "name": "stdout",
     "text": [
      "<sparse: shape=[100 100 100]>, dtype=<class 'numpy.float64'>, n0v=10000, fill_value=0>\n"
     ]
    }
   ],
   "source": [
    "M1 = sparse.random.randint(\n",
    "    low = 0,\n",
    "    high = 10,\n",
    "    sparsity = 0.01,\n",
    "    shape = (100,100,100),\n",
    "    fill_value = 0\n",
    ")\n",
    "print(M1)"
   ]
  },
  {
   "cell_type": "code",
   "execution_count": 14,
   "metadata": {},
   "outputs": [
    {
     "output_type": "stream",
     "name": "stdout",
     "text": [
      "48\n8000128\n"
     ]
    }
   ],
   "source": [
    "from sys import getsizeof\n",
    "\n",
    "M2 = M1.to_numpy()\n",
    "print(getsizeof(M1))\n",
    "print(getsizeof(M2))"
   ]
  },
  {
   "cell_type": "code",
   "execution_count": 5,
   "metadata": {},
   "outputs": [],
   "source": [
    "M = sparse.zeros(shape = (100,100,100,100,100))\n",
    "M[1,2,3,4,5] = 10"
   ]
  },
  {
   "cell_type": "code",
   "execution_count": null,
   "metadata": {},
   "outputs": [],
   "source": []
  }
 ]
}